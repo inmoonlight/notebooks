{
 "cells": [
  {
   "cell_type": "markdown",
   "id": "polar-plumbing",
   "metadata": {},
   "source": [
    "# `view()` vs. `transpose()` vs. `reshape()`"
   ]
  },
  {
   "cell_type": "code",
   "execution_count": 1,
   "id": "joint-perfume",
   "metadata": {},
   "outputs": [],
   "source": [
    "import torch\n",
    "import torch.nn as nn"
   ]
  },
  {
   "cell_type": "code",
   "execution_count": 73,
   "id": "beginning-railway",
   "metadata": {},
   "outputs": [],
   "source": [
    "t = torch.tensor([[[0, 1], [2,3], [4,5]], \\\n",
    "                 [[6,7], [8,9], [10,11]], \\\n",
    "                 [[12, 13], [14, 15], [16, 17]], \\\n",
    "                [[18, 19], [20, 21], [22, 23]]])"
   ]
  },
  {
   "cell_type": "code",
   "execution_count": 84,
   "id": "preliminary-beach",
   "metadata": {},
   "outputs": [
    {
     "data": {
      "text/plain": [
       "torch.Size([4, 3, 2])"
      ]
     },
     "execution_count": 84,
     "metadata": {},
     "output_type": "execute_result"
    }
   ],
   "source": [
    "t.shape"
   ]
  },
  {
   "cell_type": "code",
   "execution_count": 74,
   "id": "random-charge",
   "metadata": {},
   "outputs": [
    {
     "data": {
      "text/plain": [
       "tensor([[[ 0,  1],\n",
       "         [ 2,  3],\n",
       "         [ 4,  5]],\n",
       "\n",
       "        [[ 6,  7],\n",
       "         [ 8,  9],\n",
       "         [10, 11]],\n",
       "\n",
       "        [[12, 13],\n",
       "         [14, 15],\n",
       "         [16, 17]],\n",
       "\n",
       "        [[18, 19],\n",
       "         [20, 21],\n",
       "         [22, 23]]])"
      ]
     },
     "execution_count": 74,
     "metadata": {},
     "output_type": "execute_result"
    }
   ],
   "source": [
    "t"
   ]
  },
  {
   "cell_type": "code",
   "execution_count": 75,
   "id": "occasional-agenda",
   "metadata": {},
   "outputs": [
    {
     "data": {
      "text/plain": [
       "tensor(0)"
      ]
     },
     "execution_count": 75,
     "metadata": {},
     "output_type": "execute_result"
    }
   ],
   "source": [
    "t[0][0][0]"
   ]
  },
  {
   "cell_type": "code",
   "execution_count": 76,
   "id": "promotional-expansion",
   "metadata": {},
   "outputs": [
    {
     "data": {
      "text/plain": [
       "tensor(1)"
      ]
     },
     "execution_count": 76,
     "metadata": {},
     "output_type": "execute_result"
    }
   ],
   "source": [
    "t[0][0][1]"
   ]
  },
  {
   "cell_type": "code",
   "execution_count": 77,
   "id": "massive-irrigation",
   "metadata": {},
   "outputs": [
    {
     "data": {
      "text/plain": [
       "tensor(2)"
      ]
     },
     "execution_count": 77,
     "metadata": {},
     "output_type": "execute_result"
    }
   ],
   "source": [
    "t[0][1][0]"
   ]
  },
  {
   "cell_type": "markdown",
   "id": "foster-spanking",
   "metadata": {},
   "source": [
    "## view"
   ]
  },
  {
   "cell_type": "code",
   "execution_count": 78,
   "id": "baking-samba",
   "metadata": {},
   "outputs": [],
   "source": [
    "tv = t.view(4, 2, 3)"
   ]
  },
  {
   "cell_type": "code",
   "execution_count": 79,
   "id": "round-facing",
   "metadata": {},
   "outputs": [
    {
     "data": {
      "text/plain": [
       "tensor([[[ 0,  1,  2],\n",
       "         [ 3,  4,  5]],\n",
       "\n",
       "        [[ 6,  7,  8],\n",
       "         [ 9, 10, 11]],\n",
       "\n",
       "        [[12, 13, 14],\n",
       "         [15, 16, 17]],\n",
       "\n",
       "        [[18, 19, 20],\n",
       "         [21, 22, 23]]])"
      ]
     },
     "execution_count": 79,
     "metadata": {},
     "output_type": "execute_result"
    }
   ],
   "source": [
    "tv"
   ]
  },
  {
   "cell_type": "code",
   "execution_count": 81,
   "id": "european-brief",
   "metadata": {},
   "outputs": [
    {
     "data": {
      "text/plain": [
       "tensor(0)"
      ]
     },
     "execution_count": 81,
     "metadata": {},
     "output_type": "execute_result"
    }
   ],
   "source": [
    "tv[0][0][0]"
   ]
  },
  {
   "cell_type": "code",
   "execution_count": 82,
   "id": "resident-enclosure",
   "metadata": {},
   "outputs": [
    {
     "data": {
      "text/plain": [
       "tensor(1)"
      ]
     },
     "execution_count": 82,
     "metadata": {},
     "output_type": "execute_result"
    }
   ],
   "source": [
    "tv[0][0][1]"
   ]
  },
  {
   "cell_type": "code",
   "execution_count": 83,
   "id": "duplicate-trace",
   "metadata": {},
   "outputs": [
    {
     "data": {
      "text/plain": [
       "tensor(2)"
      ]
     },
     "execution_count": 83,
     "metadata": {},
     "output_type": "execute_result"
    }
   ],
   "source": [
    "tv[0][0][2]"
   ]
  },
  {
   "cell_type": "code",
   "execution_count": 80,
   "id": "critical-america",
   "metadata": {},
   "outputs": [
    {
     "data": {
      "text/plain": [
       "True"
      ]
     },
     "execution_count": 80,
     "metadata": {},
     "output_type": "execute_result"
    }
   ],
   "source": [
    "tv.is_contiguous()"
   ]
  },
  {
   "cell_type": "code",
   "execution_count": 68,
   "id": "early-rugby",
   "metadata": {},
   "outputs": [
    {
     "data": {
      "text/plain": [
       "tensor([True, True, True, True, True, True, True, True, True, True, True, True,\n",
       "        True, True, True, True, True, True, True, True, True, True, True, True])"
      ]
     },
     "execution_count": 68,
     "metadata": {},
     "output_type": "execute_result"
    }
   ],
   "source": [
    "t.flatten() == tv.flatten()"
   ]
  },
  {
   "cell_type": "code",
   "execution_count": 69,
   "id": "covered-warning",
   "metadata": {},
   "outputs": [
    {
     "data": {
      "text/plain": [
       "True"
      ]
     },
     "execution_count": 69,
     "metadata": {},
     "output_type": "execute_result"
    }
   ],
   "source": [
    "t.storage().data_ptr() == tv.storage().data_ptr()  # 물리적 pointer 값이 일치함"
   ]
  },
  {
   "cell_type": "code",
   "execution_count": 71,
   "id": "angry-usage",
   "metadata": {},
   "outputs": [
    {
     "data": {
      "text/plain": [
       "tensor(99)"
      ]
     },
     "execution_count": 71,
     "metadata": {},
     "output_type": "execute_result"
    }
   ],
   "source": [
    "# Modifying view tensor changes base tensor as well.\n",
    "t[0][0][0] = 99\n",
    "tv[0][0][0]"
   ]
  },
  {
   "cell_type": "markdown",
   "id": "elect-ferry",
   "metadata": {},
   "source": [
    "## transpose"
   ]
  },
  {
   "cell_type": "code",
   "execution_count": 85,
   "id": "instant-secret",
   "metadata": {},
   "outputs": [
    {
     "data": {
      "text/plain": [
       "tensor([[[ 0,  2,  4],\n",
       "         [ 1,  3,  5]],\n",
       "\n",
       "        [[ 6,  8, 10],\n",
       "         [ 7,  9, 11]],\n",
       "\n",
       "        [[12, 14, 16],\n",
       "         [13, 15, 17]],\n",
       "\n",
       "        [[18, 20, 22],\n",
       "         [19, 21, 23]]])"
      ]
     },
     "execution_count": 85,
     "metadata": {},
     "output_type": "execute_result"
    }
   ],
   "source": [
    "tt = t.transpose(2, 1)  # (4, 2, 3)\n",
    "tt"
   ]
  },
  {
   "cell_type": "code",
   "execution_count": 12,
   "id": "nearby-evidence",
   "metadata": {},
   "outputs": [
    {
     "data": {
      "text/plain": [
       "True"
      ]
     },
     "execution_count": 12,
     "metadata": {},
     "output_type": "execute_result"
    }
   ],
   "source": [
    "tt.shape == b.shape"
   ]
  },
  {
   "cell_type": "code",
   "execution_count": 13,
   "id": "forbidden-brother",
   "metadata": {},
   "outputs": [
    {
     "data": {
      "text/plain": [
       "True"
      ]
     },
     "execution_count": 13,
     "metadata": {},
     "output_type": "execute_result"
    }
   ],
   "source": [
    "t.storage().data_ptr() == tt.storage().data_ptr()"
   ]
  },
  {
   "cell_type": "code",
   "execution_count": 15,
   "id": "contained-compatibility",
   "metadata": {},
   "outputs": [
    {
     "data": {
      "text/plain": [
       "False"
      ]
     },
     "execution_count": 15,
     "metadata": {},
     "output_type": "execute_result"
    }
   ],
   "source": [
    "tt.is_contiguous()"
   ]
  },
  {
   "cell_type": "code",
   "execution_count": 86,
   "id": "adjacent-upgrade",
   "metadata": {},
   "outputs": [
    {
     "data": {
      "text/plain": [
       "tensor([ 0,  2,  4,  1,  3,  5,  6,  8, 10,  7,  9, 11, 12, 14, 16, 13, 15, 17,\n",
       "        18, 20, 22, 19, 21, 23])"
      ]
     },
     "execution_count": 86,
     "metadata": {},
     "output_type": "execute_result"
    }
   ],
   "source": [
    "tt.flatten()"
   ]
  },
  {
   "cell_type": "code",
   "execution_count": 18,
   "id": "damaged-letters",
   "metadata": {},
   "outputs": [
    {
     "data": {
      "text/plain": [
       "tensor([ True,  True, False, False, False, False, False, False, False, False,\n",
       "        False, False, False, False, False, False, False, False, False, False,\n",
       "        False, False,  True,  True])"
      ]
     },
     "execution_count": 18,
     "metadata": {},
     "output_type": "execute_result"
    }
   ],
   "source": [
    "t.flatten() == tt.flatten()  # since tt is not contiguous "
   ]
  },
  {
   "cell_type": "markdown",
   "id": "prescription-hampshire",
   "metadata": {},
   "source": [
    "## contiguous"
   ]
  },
  {
   "cell_type": "code",
   "execution_count": 87,
   "id": "center-financing",
   "metadata": {},
   "outputs": [
    {
     "data": {
      "text/plain": [
       "tensor([[[True, True, True],\n",
       "         [True, True, True]],\n",
       "\n",
       "        [[True, True, True],\n",
       "         [True, True, True]],\n",
       "\n",
       "        [[True, True, True],\n",
       "         [True, True, True]],\n",
       "\n",
       "        [[True, True, True],\n",
       "         [True, True, True]]])"
      ]
     },
     "execution_count": 87,
     "metadata": {},
     "output_type": "execute_result"
    }
   ],
   "source": [
    "tt.contiguous() == tt  # 겉보기에는 tt와 같음"
   ]
  },
  {
   "cell_type": "code",
   "execution_count": 31,
   "id": "departmental-louisville",
   "metadata": {},
   "outputs": [
    {
     "data": {
      "text/plain": [
       "False"
      ]
     },
     "execution_count": 31,
     "metadata": {},
     "output_type": "execute_result"
    }
   ],
   "source": [
    "tt.contiguous().storage().data_ptr() == tt.storage().data_ptr()  #  하지만 물리적 pointer는 다름"
   ]
  },
  {
   "cell_type": "markdown",
   "id": "brutal-orlando",
   "metadata": {},
   "source": [
    "## reshape\n",
    "\n",
    "`== contiguous().view()`"
   ]
  },
  {
   "cell_type": "code",
   "execution_count": 92,
   "id": "egyptian-banner",
   "metadata": {},
   "outputs": [
    {
     "ename": "RuntimeError",
     "evalue": "view size is not compatible with input tensor's size and stride (at least one dimension spans across two contiguous subspaces). Use .reshape(...) instead.",
     "output_type": "error",
     "traceback": [
      "\u001b[0;31m---------------------------------------------------------------------------\u001b[0m",
      "\u001b[0;31mRuntimeError\u001b[0m                              Traceback (most recent call last)",
      "\u001b[0;32m<ipython-input-92-785954c0ff12>\u001b[0m in \u001b[0;36m<module>\u001b[0;34m\u001b[0m\n\u001b[0;32m----> 1\u001b[0;31m \u001b[0mtt\u001b[0m\u001b[0;34m.\u001b[0m\u001b[0mview\u001b[0m\u001b[0;34m(\u001b[0m\u001b[0;36m4\u001b[0m\u001b[0;34m,\u001b[0m \u001b[0;36m3\u001b[0m\u001b[0;34m,\u001b[0m \u001b[0;36m2\u001b[0m\u001b[0;34m)\u001b[0m  \u001b[0;31m# transpose -> view (x)\u001b[0m\u001b[0;34m\u001b[0m\u001b[0;34m\u001b[0m\u001b[0m\n\u001b[0m",
      "\u001b[0;31mRuntimeError\u001b[0m: view size is not compatible with input tensor's size and stride (at least one dimension spans across two contiguous subspaces). Use .reshape(...) instead."
     ]
    }
   ],
   "source": [
    "tt.view(4, 3, 2)  # transpose -> view (x)"
   ]
  },
  {
   "cell_type": "code",
   "execution_count": 90,
   "id": "varying-album",
   "metadata": {},
   "outputs": [
    {
     "data": {
      "text/plain": [
       "tensor([[[ 0,  2],\n",
       "         [ 4,  1],\n",
       "         [ 3,  5]],\n",
       "\n",
       "        [[ 6,  8],\n",
       "         [10,  7],\n",
       "         [ 9, 11]],\n",
       "\n",
       "        [[12, 14],\n",
       "         [16, 13],\n",
       "         [15, 17]],\n",
       "\n",
       "        [[18, 20],\n",
       "         [22, 19],\n",
       "         [21, 23]]])"
      ]
     },
     "execution_count": 90,
     "metadata": {},
     "output_type": "execute_result"
    }
   ],
   "source": [
    "tt.contiguous().view(4, 3, 2)  # transpose -> contiguous -> view (o)"
   ]
  },
  {
   "cell_type": "code",
   "execution_count": 91,
   "id": "contemporary-divide",
   "metadata": {},
   "outputs": [
    {
     "data": {
      "text/plain": [
       "tensor([[[ 0,  2],\n",
       "         [ 4,  1],\n",
       "         [ 3,  5]],\n",
       "\n",
       "        [[ 6,  8],\n",
       "         [10,  7],\n",
       "         [ 9, 11]],\n",
       "\n",
       "        [[12, 14],\n",
       "         [16, 13],\n",
       "         [15, 17]],\n",
       "\n",
       "        [[18, 20],\n",
       "         [22, 19],\n",
       "         [21, 23]]])"
      ]
     },
     "execution_count": 91,
     "metadata": {},
     "output_type": "execute_result"
    }
   ],
   "source": [
    "tt.reshape(4, 3, 2)  # transpose -> reshape (o)"
   ]
  },
  {
   "cell_type": "code",
   "execution_count": 96,
   "id": "muslim-search",
   "metadata": {},
   "outputs": [
    {
     "data": {
      "text/plain": [
       "True"
      ]
     },
     "execution_count": 96,
     "metadata": {},
     "output_type": "execute_result"
    }
   ],
   "source": [
    "tt.reshape(4, 3, 2).is_contiguous()"
   ]
  }
 ],
 "metadata": {
  "kernelspec": {
   "display_name": "Python 3",
   "language": "python",
   "name": "python3"
  },
  "language_info": {
   "codemirror_mode": {
    "name": "ipython",
    "version": 3
   },
   "file_extension": ".py",
   "mimetype": "text/x-python",
   "name": "python",
   "nbconvert_exporter": "python",
   "pygments_lexer": "ipython3",
   "version": "3.7.4"
  }
 },
 "nbformat": 4,
 "nbformat_minor": 5
}
