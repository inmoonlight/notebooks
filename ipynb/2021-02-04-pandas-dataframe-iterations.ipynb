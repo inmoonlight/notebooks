{
 "cells": [
  {
   "cell_type": "markdown",
   "metadata": {},
   "source": [
    "# Pandas Dataframe 의 다양한 iteration 방법을 비교합니다.\n",
    "\n",
    "- requirements: `pandas >= 1.0` \n",
    "- task:\n",
    "    - text의 문장을 token length 기준 100까지 자르기\n",
    "\n",
    "\n",
    "1. `iterrows`\n",
    "2. `loc`, `iloc`\n",
    "3. `at`, `iat`\n",
    "4. `values`"
   ]
  },
  {
   "cell_type": "code",
   "execution_count": 6,
   "metadata": {},
   "outputs": [],
   "source": [
    "import pandas as pd"
   ]
  },
  {
   "cell_type": "code",
   "execution_count": 7,
   "metadata": {},
   "outputs": [],
   "source": [
    "data = pd.read_csv('../sample_data/wikipedia_split_psgs_w100.tsv', sep='\\t')"
   ]
  },
  {
   "cell_type": "code",
   "execution_count": 3,
   "metadata": {},
   "outputs": [
    {
     "data": {
      "text/html": [
       "<div>\n",
       "<style scoped>\n",
       "    .dataframe tbody tr th:only-of-type {\n",
       "        vertical-align: middle;\n",
       "    }\n",
       "\n",
       "    .dataframe tbody tr th {\n",
       "        vertical-align: top;\n",
       "    }\n",
       "\n",
       "    .dataframe thead th {\n",
       "        text-align: right;\n",
       "    }\n",
       "</style>\n",
       "<table border=\"1\" class=\"dataframe\">\n",
       "  <thead>\n",
       "    <tr style=\"text-align: right;\">\n",
       "      <th></th>\n",
       "      <th>id</th>\n",
       "      <th>text</th>\n",
       "      <th>title</th>\n",
       "    </tr>\n",
       "  </thead>\n",
       "  <tbody>\n",
       "    <tr>\n",
       "      <th>0</th>\n",
       "      <td>1</td>\n",
       "      <td>지미 카터 제임스 얼 \"지미\" 카터 주니어(, 1924년 10월 1일 ~ )는 민주...</td>\n",
       "      <td>지미 카터</td>\n",
       "    </tr>\n",
       "    <tr>\n",
       "      <th>1</th>\n",
       "      <td>2</td>\n",
       "      <td>등용법을 내세웠다. 1976년 미합중국 (미국) 제39대 대통령 선거에 민주당 후보...</td>\n",
       "      <td>지미 카터</td>\n",
       "    </tr>\n",
       "    <tr>\n",
       "      <th>2</th>\n",
       "      <td>3</td>\n",
       "      <td>구출 실패를 이유로 1980년 대통령 선거에서 공화당의 로널드 레이건 후보에게 져 ...</td>\n",
       "      <td>지미 카터</td>\n",
       "    </tr>\n",
       "    <tr>\n",
       "      <th>3</th>\n",
       "      <td>4</td>\n",
       "      <td>그는 이에 대해 애매한 태도를 보였고, 이는 후에 대한민국 내에서 고조되는 반미 운...</td>\n",
       "      <td>지미 카터</td>\n",
       "    </tr>\n",
       "    <tr>\n",
       "      <th>4</th>\n",
       "      <td>5</td>\n",
       "      <td>카터는 카터 행정부 이후 미국이 북핵 위기, 코소보 전쟁, 이라크 전쟁과 같이 미국...</td>\n",
       "      <td>지미 카터</td>\n",
       "    </tr>\n",
       "  </tbody>\n",
       "</table>\n",
       "</div>"
      ],
      "text/plain": [
       "   id                                               text  title\n",
       "0   1  지미 카터 제임스 얼 \"지미\" 카터 주니어(, 1924년 10월 1일 ~ )는 민주...  지미 카터\n",
       "1   2  등용법을 내세웠다. 1976년 미합중국 (미국) 제39대 대통령 선거에 민주당 후보...  지미 카터\n",
       "2   3  구출 실패를 이유로 1980년 대통령 선거에서 공화당의 로널드 레이건 후보에게 져 ...  지미 카터\n",
       "3   4  그는 이에 대해 애매한 태도를 보였고, 이는 후에 대한민국 내에서 고조되는 반미 운...  지미 카터\n",
       "4   5  카터는 카터 행정부 이후 미국이 북핵 위기, 코소보 전쟁, 이라크 전쟁과 같이 미국...  지미 카터"
      ]
     },
     "execution_count": 3,
     "metadata": {},
     "output_type": "execute_result"
    }
   ],
   "source": [
    "data.head()"
   ]
  },
  {
   "cell_type": "code",
   "execution_count": 4,
   "metadata": {},
   "outputs": [],
   "source": [
    "def cut_text(text, max_len: int = 100):\n",
    "    return ' '.join(text.split()[:max_len])"
   ]
  },
  {
   "cell_type": "markdown",
   "metadata": {},
   "source": [
    "### 1. `iterrows`"
   ]
  },
  {
   "cell_type": "code",
   "execution_count": 23,
   "metadata": {},
   "outputs": [
    {
     "name": "stdout",
     "output_type": "stream",
     "text": [
      "62.7 ms ± 729 µs per loop (mean ± std. dev. of 7 runs, 10 loops each)\n"
     ]
    }
   ],
   "source": [
    "%%timeit\n",
    "\n",
    "result = []\n",
    "for i, row in data.iterrows():\n",
    "    short_text = cut_text(row['text'])\n",
    "    instance = {\n",
    "        'id': row['id'],\n",
    "        'text': short_text,\n",
    "        'title': row['title']\n",
    "    }\n",
    "    result.append(instance)"
   ]
  },
  {
   "cell_type": "markdown",
   "metadata": {},
   "source": [
    "### 2. `loc`, `iloc`"
   ]
  },
  {
   "cell_type": "code",
   "execution_count": 26,
   "metadata": {},
   "outputs": [
    {
     "name": "stdout",
     "output_type": "stream",
     "text": [
      "24.6 ms ± 235 µs per loop (mean ± std. dev. of 7 runs, 10 loops each)\n"
     ]
    }
   ],
   "source": [
    "%%timeit\n",
    "\n",
    "result = []\n",
    "for idx in data.index:\n",
    "    short_text = cut_text(data.loc[idx, 'text'])\n",
    "    instance = {\n",
    "        'id': data.loc[idx, 'id'],\n",
    "        'text': short_text,\n",
    "        'title': data.loc[idx, 'title']\n",
    "    }\n",
    "    result.append(instance)"
   ]
  },
  {
   "cell_type": "markdown",
   "metadata": {},
   "source": [
    "##### 주의: `loc`을 잘못 쓰면 시간이 더 길어진다"
   ]
  },
  {
   "cell_type": "code",
   "execution_count": 8,
   "metadata": {},
   "outputs": [
    {
     "name": "stdout",
     "output_type": "stream",
     "text": [
      "268 ms ± 1 ms per loop (mean ± std. dev. of 7 runs, 1 loop each)\n"
     ]
    }
   ],
   "source": [
    "%%timeit\n",
    "\n",
    "result = []\n",
    "for idx in data.index:\n",
    "    short_text = cut_text(data.loc[idx]['text'])  # diff\n",
    "    instance = {\n",
    "        'id': data.loc[idx]['id'],\n",
    "        'text': short_text,\n",
    "        'title': data.loc[idx]['title']\n",
    "    }\n",
    "    result.append(instance)"
   ]
  },
  {
   "cell_type": "code",
   "execution_count": 28,
   "metadata": {},
   "outputs": [
    {
     "name": "stdout",
     "output_type": "stream",
     "text": [
      "99.4 ms ± 904 µs per loop (mean ± std. dev. of 7 runs, 10 loops each)\n"
     ]
    }
   ],
   "source": [
    "%%timeit\n",
    "\n",
    "result = []\n",
    "for idx in data.index:\n",
    "    row = data.loc[idx]\n",
    "    short_text = cut_text(row['text'])  # diff\n",
    "    instance = {\n",
    "        'id': row['id'],\n",
    "        'text': short_text,\n",
    "        'title': row['title']\n",
    "    }\n",
    "    result.append(instance)"
   ]
  },
  {
   "cell_type": "markdown",
   "metadata": {},
   "source": [
    "### 3. `at`, `iat`"
   ]
  },
  {
   "cell_type": "code",
   "execution_count": 30,
   "metadata": {},
   "outputs": [
    {
     "name": "stdout",
     "output_type": "stream",
     "text": [
      "15.8 ms ± 49.6 µs per loop (mean ± std. dev. of 7 runs, 100 loops each)\n"
     ]
    }
   ],
   "source": [
    "%%timeit\n",
    "\n",
    "result = []\n",
    "for idx in data.index:\n",
    "    short_text = cut_text(data.at[idx, 'text'])\n",
    "    instance = {\n",
    "        'id': data.at[idx, 'id'],\n",
    "        'text': short_text,\n",
    "        'title': data.at[idx, 'title']\n",
    "    }\n",
    "    result.append(instance)"
   ]
  },
  {
   "cell_type": "markdown",
   "metadata": {},
   "source": [
    "### 4. `itertuples`"
   ]
  },
  {
   "cell_type": "code",
   "execution_count": 35,
   "metadata": {},
   "outputs": [
    {
     "name": "stdout",
     "output_type": "stream",
     "text": [
      "7.7 ms ± 21.9 µs per loop (mean ± std. dev. of 7 runs, 100 loops each)\n"
     ]
    }
   ],
   "source": [
    "%%timeit\n",
    "\n",
    "result = []\n",
    "for row in data.itertuples():\n",
    "    short_text = cut_text(row.text)\n",
    "    instance = {\n",
    "        'id': row.id,\n",
    "        'text': short_text,\n",
    "        'title': row.title\n",
    "    }\n",
    "    result.append(instance)"
   ]
  },
  {
   "cell_type": "markdown",
   "metadata": {},
   "source": [
    "### 5. `values`"
   ]
  },
  {
   "cell_type": "markdown",
   "metadata": {},
   "source": [
    "단, `values`는 column 값으로 인자를 받아올 수 없다는 단점이 있다. `text`에 해당하는 인자를 받아오기 위해서는 `text` 가 원 데이터에서 몇 번째 column 이었는지를 알아야 한다"
   ]
  },
  {
   "cell_type": "code",
   "execution_count": 31,
   "metadata": {},
   "outputs": [
    {
     "name": "stdout",
     "output_type": "stream",
     "text": [
      "7.1 ms ± 43.8 µs per loop (mean ± std. dev. of 7 runs, 100 loops each)\n"
     ]
    }
   ],
   "source": [
    "%%timeit\n",
    "\n",
    "result = []\n",
    "for value in data.values:\n",
    "    short_text = cut_text(value[1])\n",
    "    instance = {\n",
    "        'id': value[0],\n",
    "        'text': short_text,\n",
    "        'title': value[2]\n",
    "    }\n",
    "    result.append(instance)"
   ]
  },
  {
   "cell_type": "markdown",
   "metadata": {},
   "source": [
    "\n",
    "### 6. `apply`"
   ]
  },
  {
   "cell_type": "code",
   "execution_count": 35,
   "metadata": {},
   "outputs": [
    {
     "name": "stdout",
     "output_type": "stream",
     "text": [
      "9.91 ms ± 19.6 µs per loop (mean ± std. dev. of 7 runs, 100 loops each)\n"
     ]
    }
   ],
   "source": [
    "%%timeit\n",
    "\n",
    "result = data.copy()\n",
    "result['text'] = result['text'].apply(lambda x: cut_text(x))\n",
    "result.to_dict(orient='records')"
   ]
  }
 ],
 "metadata": {
  "kernelspec": {
   "display_name": "Python 3",
   "language": "python",
   "name": "python3"
  },
  "language_info": {
   "codemirror_mode": {
    "name": "ipython",
    "version": 3
   },
   "file_extension": ".py",
   "mimetype": "text/x-python",
   "name": "python",
   "nbconvert_exporter": "python",
   "pygments_lexer": "ipython3",
   "version": "3.7.4"
  }
 },
 "nbformat": 4,
 "nbformat_minor": 4
}
