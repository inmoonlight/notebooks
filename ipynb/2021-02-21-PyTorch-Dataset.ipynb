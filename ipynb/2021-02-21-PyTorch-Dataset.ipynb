{
 "cells": [
  {
   "cell_type": "code",
   "execution_count": 6,
   "metadata": {},
   "outputs": [],
   "source": [
    "import torch\n",
    "import pandas as pd"
   ]
  },
  {
   "cell_type": "code",
   "execution_count": 17,
   "metadata": {},
   "outputs": [],
   "source": [
    "data_path = '../sample_data/wikipedia_split_psgs_w100.tsv'"
   ]
  },
  {
   "cell_type": "code",
   "execution_count": 18,
   "metadata": {},
   "outputs": [],
   "source": [
    "data = pd.read_csv(data_path, sep='\\t')"
   ]
  },
  {
   "cell_type": "code",
   "execution_count": 10,
   "metadata": {},
   "outputs": [
    {
     "data": {
      "text/html": [
       "<div>\n",
       "<style scoped>\n",
       "    .dataframe tbody tr th:only-of-type {\n",
       "        vertical-align: middle;\n",
       "    }\n",
       "\n",
       "    .dataframe tbody tr th {\n",
       "        vertical-align: top;\n",
       "    }\n",
       "\n",
       "    .dataframe thead th {\n",
       "        text-align: right;\n",
       "    }\n",
       "</style>\n",
       "<table border=\"1\" class=\"dataframe\">\n",
       "  <thead>\n",
       "    <tr style=\"text-align: right;\">\n",
       "      <th></th>\n",
       "      <th>id</th>\n",
       "      <th>text</th>\n",
       "      <th>title</th>\n",
       "    </tr>\n",
       "  </thead>\n",
       "  <tbody>\n",
       "    <tr>\n",
       "      <th>0</th>\n",
       "      <td>1</td>\n",
       "      <td>지미 카터 제임스 얼 \"지미\" 카터 주니어(, 1924년 10월 1일 ~ )는 민주...</td>\n",
       "      <td>지미 카터</td>\n",
       "    </tr>\n",
       "    <tr>\n",
       "      <th>1</th>\n",
       "      <td>2</td>\n",
       "      <td>등용법을 내세웠다. 1976년 미합중국 (미국) 제39대 대통령 선거에 민주당 후보...</td>\n",
       "      <td>지미 카터</td>\n",
       "    </tr>\n",
       "    <tr>\n",
       "      <th>2</th>\n",
       "      <td>3</td>\n",
       "      <td>구출 실패를 이유로 1980년 대통령 선거에서 공화당의 로널드 레이건 후보에게 져 ...</td>\n",
       "      <td>지미 카터</td>\n",
       "    </tr>\n",
       "    <tr>\n",
       "      <th>3</th>\n",
       "      <td>4</td>\n",
       "      <td>그는 이에 대해 애매한 태도를 보였고, 이는 후에 대한민국 내에서 고조되는 반미 운...</td>\n",
       "      <td>지미 카터</td>\n",
       "    </tr>\n",
       "    <tr>\n",
       "      <th>4</th>\n",
       "      <td>5</td>\n",
       "      <td>카터는 카터 행정부 이후 미국이 북핵 위기, 코소보 전쟁, 이라크 전쟁과 같이 미국...</td>\n",
       "      <td>지미 카터</td>\n",
       "    </tr>\n",
       "  </tbody>\n",
       "</table>\n",
       "</div>"
      ],
      "text/plain": [
       "   id                                               text  title\n",
       "0   1  지미 카터 제임스 얼 \"지미\" 카터 주니어(, 1924년 10월 1일 ~ )는 민주...  지미 카터\n",
       "1   2  등용법을 내세웠다. 1976년 미합중국 (미국) 제39대 대통령 선거에 민주당 후보...  지미 카터\n",
       "2   3  구출 실패를 이유로 1980년 대통령 선거에서 공화당의 로널드 레이건 후보에게 져 ...  지미 카터\n",
       "3   4  그는 이에 대해 애매한 태도를 보였고, 이는 후에 대한민국 내에서 고조되는 반미 운...  지미 카터\n",
       "4   5  카터는 카터 행정부 이후 미국이 북핵 위기, 코소보 전쟁, 이라크 전쟁과 같이 미국...  지미 카터"
      ]
     },
     "execution_count": 10,
     "metadata": {},
     "output_type": "execute_result"
    }
   ],
   "source": [
    "data.head()"
   ]
  },
  {
   "cell_type": "markdown",
   "metadata": {},
   "source": [
    "# Single Process"
   ]
  },
  {
   "cell_type": "markdown",
   "metadata": {},
   "source": [
    "## Map-style Dataset"
   ]
  },
  {
   "cell_type": "code",
   "execution_count": 11,
   "metadata": {},
   "outputs": [],
   "source": [
    "from torch.utils.data import Dataset\n",
    "\n",
    "class MyMapDataset(Dataset):\n",
    "\n",
    "    def __init__(self, data):\n",
    "        self.data = data\n",
    "\n",
    "    def __len__(self):\n",
    "        return len(self.data)\n",
    "\n",
    "    def __getitem__(self, index):\n",
    "        return self.data['text'][index]"
   ]
  },
  {
   "cell_type": "code",
   "execution_count": 12,
   "metadata": {},
   "outputs": [],
   "source": [
    "dataset = MyMapDataset(data)"
   ]
  },
  {
   "cell_type": "code",
   "execution_count": 56,
   "metadata": {},
   "outputs": [
    {
     "data": {
      "text/plain": [
       "'지미 카터 제임스 얼 \"지미\" 카터 주니어(, 1924년 10월 1일 ~ )는 민주당 출신 미국 39대 대통령 (1977년 ~ 1981년)이다. 지미 카터는 조지아주 섬터 카운티 플레인스 마을에서 태어났다. 조지아 공과대학교를 졸업하였다. 그 후 해군에 들어가 전함·원자력·잠수함의 승무원으로 일하였다. 1953년 미국 해군 대위로 예편하였고 이후 땅콩·면화 등을 가꿔 많은 돈을 벌었다. 그의 별명이 \"땅콩 농부\" (Peanut Farmer)로 알려졌다. 1962년 조지아 주 상원 의원 선거에서 낙선하나 그 선거가 부정선거 였음을 입증하게 되어 당선되고, 1966년 조지아 주 지사 선거에 낙선하지만 1970년 조지아 주 지사를 역임했다. 대통령이 되기 전 조지아주 상원의원을 두번 연임했으며, 1971년부터 1975년까지 조지아 지사로 근무했다. 조지아 주지사로 지내면서, 미국에 사는 흑인'"
      ]
     },
     "execution_count": 56,
     "metadata": {},
     "output_type": "execute_result"
    }
   ],
   "source": [
    "dataset[0]"
   ]
  },
  {
   "cell_type": "code",
   "execution_count": 14,
   "metadata": {},
   "outputs": [
    {
     "data": {
      "text/plain": [
       "999"
      ]
     },
     "execution_count": 14,
     "metadata": {},
     "output_type": "execute_result"
    }
   ],
   "source": [
    "len(dataset)"
   ]
  },
  {
   "cell_type": "markdown",
   "metadata": {},
   "source": [
    "## Iterable Dataset"
   ]
  },
  {
   "cell_type": "code",
   "execution_count": 60,
   "metadata": {},
   "outputs": [],
   "source": [
    "from torch.utils.data import IterableDataset\n",
    "\n",
    "class MyIterableDataset(IterableDataset):\n",
    "\n",
    "    def __init__(self, data_path):\n",
    "        self.data_path = data_path\n",
    "\n",
    "    def __iter__(self):\n",
    "        iter_csv = pd.read_csv(self.data_path, sep='\\t', iterator=True, chunksize=1)\n",
    "        for line in iter_csv:\n",
    "            line = line['text'].item()\n",
    "            yield line"
   ]
  },
  {
   "cell_type": "code",
   "execution_count": 61,
   "metadata": {},
   "outputs": [],
   "source": [
    "idataset = MyIterableDataset(data_path)"
   ]
  },
  {
   "cell_type": "code",
   "execution_count": 62,
   "metadata": {},
   "outputs": [
    {
     "name": "stdout",
     "output_type": "stream",
     "text": [
      "지미 카터 제임스 얼 \"지미\" 카터 주니어(, 1924년 10월 1일 ~ )는 민주당 출신 미국 39대 대통령 (1977년 ~ 1981년)이다. 지미 카터는 조지아주 섬터 카운티 플레인스 마을에서 태어났다. 조지아 공과대학교를 졸업하였다. 그 후 해군에 들어가 전함·원자력·잠수함의 승무원으로 일하였다. 1953년 미국 해군 대위로 예편하였고 이후 땅콩·면화 등을 가꿔 많은 돈을 벌었다. 그의 별명이 \"땅콩 농부\" (Peanut Farmer)로 알려졌다. 1962년 조지아 주 상원 의원 선거에서 낙선하나 그 선거가 부정선거 였음을 입증하게 되어 당선되고, 1966년 조지아 주 지사 선거에 낙선하지만 1970년 조지아 주 지사를 역임했다. 대통령이 되기 전 조지아주 상원의원을 두번 연임했으며, 1971년부터 1975년까지 조지아 지사로 근무했다. 조지아 주지사로 지내면서, 미국에 사는 흑인\n"
     ]
    }
   ],
   "source": [
    "for i in idataset:\n",
    "    print(i)\n",
    "    break"
   ]
  },
  {
   "cell_type": "markdown",
   "metadata": {},
   "source": [
    "# Going Parallel"
   ]
  },
  {
   "cell_type": "markdown",
   "metadata": {},
   "source": [
    "## Map-style Dataset"
   ]
  },
  {
   "cell_type": "code",
   "execution_count": 64,
   "metadata": {},
   "outputs": [],
   "source": [
    "from torch.utils.data import DataLoader, Dataset, IterableDataset\n",
    "import time\n",
    "\n",
    "class MyMapDataset(Dataset):\n",
    "    \n",
    "    def __init__(self, data):\n",
    "        self.data = data\n",
    "        \n",
    "    def __len__(self):\n",
    "        return len(self.data)\n",
    "    \n",
    "    def __getitem__(self, index):\n",
    "        worker = torch.utils.data.get_worker_info()\n",
    "        worker_id = worker.id if worker is not None else -1\n",
    "        \n",
    "        start = time.time()\n",
    "        time.sleep(0.1)\n",
    "        end = time.time()\n",
    "        \n",
    "        return self.data[index], worker_id, start, end"
   ]
  },
  {
   "cell_type": "code",
   "execution_count": 99,
   "metadata": {},
   "outputs": [],
   "source": [
    "data = range(16)\n",
    "map_dataset = MyMapDataset(data)"
   ]
  },
  {
   "cell_type": "code",
   "execution_count": 100,
   "metadata": {},
   "outputs": [
    {
     "name": "stdout",
     "output_type": "stream",
     "text": [
      "tensor([0, 1, 2, 3]) tensor([-1, -1, -1, -1])\n",
      "tensor([4, 5, 6, 7]) tensor([-1, -1, -1, -1])\n",
      "tensor([ 8,  9, 10, 11]) tensor([-1, -1, -1, -1])\n",
      "tensor([12, 13, 14, 15]) tensor([-1, -1, -1, -1])\n"
     ]
    }
   ],
   "source": [
    "loader = DataLoader(map_dataset, batch_size=4, num_workers=0)\n",
    "for d in loader:\n",
    "    batch, worker_ids, starts, ends = d\n",
    "    print(batch, worker_ids)"
   ]
  },
  {
   "cell_type": "code",
   "execution_count": 101,
   "metadata": {},
   "outputs": [
    {
     "name": "stdout",
     "output_type": "stream",
     "text": [
      "tensor([0, 1, 2, 3]) tensor([0, 0, 0, 0])\n",
      "tensor([4, 5, 6, 7]) tensor([0, 0, 0, 0])\n",
      "tensor([ 8,  9, 10, 11]) tensor([0, 0, 0, 0])\n",
      "tensor([12, 13, 14, 15]) tensor([0, 0, 0, 0])\n"
     ]
    }
   ],
   "source": [
    "loader = DataLoader(map_dataset, batch_size=4, num_workers=1)\n",
    "for d in loader:\n",
    "    batch, worker_ids, starts, ends = d\n",
    "    print(batch, worker_ids)"
   ]
  },
  {
   "cell_type": "code",
   "execution_count": 102,
   "metadata": {},
   "outputs": [
    {
     "name": "stdout",
     "output_type": "stream",
     "text": [
      "tensor([0, 1, 2, 3]) tensor([0, 0, 0, 0])\n",
      "tensor([4, 5, 6, 7]) tensor([1, 1, 1, 1])\n",
      "tensor([ 8,  9, 10, 11]) tensor([0, 0, 0, 0])\n",
      "tensor([12, 13, 14, 15]) tensor([1, 1, 1, 1])\n"
     ]
    }
   ],
   "source": [
    "loader = DataLoader(map_dataset, batch_size=4, num_workers=2)\n",
    "for d in loader:\n",
    "    batch, worker_ids, starts, ends = d\n",
    "    print(batch, worker_ids)"
   ]
  },
  {
   "cell_type": "code",
   "execution_count": 103,
   "metadata": {},
   "outputs": [
    {
     "name": "stdout",
     "output_type": "stream",
     "text": [
      "tensor([0, 1, 2, 3]) tensor([0, 0, 0, 0])\n",
      "tensor([4, 5, 6, 7]) tensor([1, 1, 1, 1])\n",
      "tensor([ 8,  9, 10, 11]) tensor([2, 2, 2, 2])\n",
      "tensor([12, 13, 14, 15]) tensor([0, 0, 0, 0])\n"
     ]
    }
   ],
   "source": [
    "loader = DataLoader(map_dataset, batch_size=4, num_workers=3)\n",
    "for d in loader:\n",
    "    batch, worker_ids, starts, ends = d\n",
    "    print(batch, worker_ids)"
   ]
  },
  {
   "cell_type": "markdown",
   "metadata": {},
   "source": [
    "## Iterable Dataset"
   ]
  },
  {
   "cell_type": "code",
   "execution_count": 104,
   "metadata": {},
   "outputs": [],
   "source": [
    "from torch.utils.data import DataLoader, Dataset, IterableDataset\n",
    "import time\n",
    "\n",
    "class MyIterableDataset(IterableDataset):\n",
    "    \n",
    "    def __init__(self, data):\n",
    "        self.data = data\n",
    "    \n",
    "    def __iter__(self):\n",
    "        for x in self.data:\n",
    "            worker = torch.utils.data.get_worker_info()\n",
    "            worker_id = worker.id if worker is not None else -1\n",
    "        \n",
    "            start = time.time()\n",
    "            time.sleep(0.1)\n",
    "            end = time.time()\n",
    "        \n",
    "            yield x, worker_id, start, end"
   ]
  },
  {
   "cell_type": "code",
   "execution_count": 105,
   "metadata": {},
   "outputs": [],
   "source": [
    "iterable_dataset = MyIterableDataset(data)"
   ]
  },
  {
   "cell_type": "code",
   "execution_count": 106,
   "metadata": {},
   "outputs": [
    {
     "name": "stdout",
     "output_type": "stream",
     "text": [
      "tensor([0, 1, 2, 3]) tensor([-1, -1, -1, -1])\n",
      "tensor([4, 5, 6, 7]) tensor([-1, -1, -1, -1])\n",
      "tensor([ 8,  9, 10, 11]) tensor([-1, -1, -1, -1])\n",
      "tensor([12, 13, 14, 15]) tensor([-1, -1, -1, -1])\n"
     ]
    }
   ],
   "source": [
    "loader = DataLoader(iterable_dataset, batch_size=4, num_workers=0)\n",
    "for d in loader:\n",
    "    batch, worker_ids, starts, ends = d\n",
    "    print(batch, worker_ids)"
   ]
  },
  {
   "cell_type": "code",
   "execution_count": 107,
   "metadata": {},
   "outputs": [
    {
     "name": "stdout",
     "output_type": "stream",
     "text": [
      "tensor([0, 1, 2, 3]) tensor([0, 0, 0, 0])\n",
      "tensor([4, 5, 6, 7]) tensor([0, 0, 0, 0])\n",
      "tensor([ 8,  9, 10, 11]) tensor([0, 0, 0, 0])\n",
      "tensor([12, 13, 14, 15]) tensor([0, 0, 0, 0])\n"
     ]
    }
   ],
   "source": [
    "loader = DataLoader(iterable_dataset, batch_size=4, num_workers=1)\n",
    "for d in loader:\n",
    "    batch, worker_ids, starts, ends = d\n",
    "    print(batch, worker_ids)"
   ]
  },
  {
   "cell_type": "code",
   "execution_count": 108,
   "metadata": {},
   "outputs": [
    {
     "name": "stdout",
     "output_type": "stream",
     "text": [
      "tensor([0, 1, 2, 3]) tensor([0, 0, 0, 0])\n",
      "tensor([0, 1, 2, 3]) tensor([1, 1, 1, 1])\n",
      "tensor([4, 5, 6, 7]) tensor([0, 0, 0, 0])\n",
      "tensor([4, 5, 6, 7]) tensor([1, 1, 1, 1])\n",
      "tensor([ 8,  9, 10, 11]) tensor([0, 0, 0, 0])\n",
      "tensor([ 8,  9, 10, 11]) tensor([1, 1, 1, 1])\n",
      "tensor([12, 13, 14, 15]) tensor([0, 0, 0, 0])\n",
      "tensor([12, 13, 14, 15]) tensor([1, 1, 1, 1])\n"
     ]
    }
   ],
   "source": [
    "loader = DataLoader(iterable_dataset, batch_size=4, num_workers=2)\n",
    "for d in loader:\n",
    "    batch, worker_ids, starts, ends = d\n",
    "    print(batch, worker_ids)"
   ]
  },
  {
   "cell_type": "code",
   "execution_count": 109,
   "metadata": {},
   "outputs": [
    {
     "name": "stdout",
     "output_type": "stream",
     "text": [
      "tensor([0, 1, 2, 3]) tensor([0, 0, 0, 0])\n",
      "tensor([0, 1, 2, 3]) tensor([1, 1, 1, 1])\n",
      "tensor([0, 1, 2, 3]) tensor([2, 2, 2, 2])\n",
      "tensor([4, 5, 6, 7]) tensor([0, 0, 0, 0])\n",
      "tensor([4, 5, 6, 7]) tensor([1, 1, 1, 1])\n",
      "tensor([4, 5, 6, 7]) tensor([2, 2, 2, 2])\n",
      "tensor([ 8,  9, 10, 11]) tensor([0, 0, 0, 0])\n",
      "tensor([ 8,  9, 10, 11]) tensor([1, 1, 1, 1])\n",
      "tensor([ 8,  9, 10, 11]) tensor([2, 2, 2, 2])\n",
      "tensor([12, 13, 14, 15]) tensor([0, 0, 0, 0])\n",
      "tensor([12, 13, 14, 15]) tensor([1, 1, 1, 1])\n",
      "tensor([12, 13, 14, 15]) tensor([2, 2, 2, 2])\n"
     ]
    }
   ],
   "source": [
    "loader = DataLoader(iterable_dataset, batch_size=4, num_workers=3)\n",
    "for d in loader:\n",
    "    batch, worker_ids, starts, ends = d\n",
    "    print(batch, worker_ids)"
   ]
  },
  {
   "cell_type": "code",
   "execution_count": 110,
   "metadata": {},
   "outputs": [],
   "source": [
    "def worker_init_fn(_):\n",
    "    worker_info = torch.utils.data.get_worker_info()\n",
    "    \n",
    "    dataset = worker_info.dataset\n",
    "    worker_id = worker_info.id\n",
    "    split_size = len(dataset.data) // worker_info.num_workers\n",
    "    \n",
    "    dataset.data = dataset.data[worker_id * split_size: (worker_id + 1) * split_size]"
   ]
  },
  {
   "cell_type": "code",
   "execution_count": 111,
   "metadata": {},
   "outputs": [
    {
     "name": "stdout",
     "output_type": "stream",
     "text": [
      "tensor([0, 1, 2, 3]) tensor([0, 0, 0, 0])\n",
      "tensor([ 8,  9, 10, 11]) tensor([1, 1, 1, 1])\n",
      "tensor([4, 5, 6, 7]) tensor([0, 0, 0, 0])\n",
      "tensor([12, 13, 14, 15]) tensor([1, 1, 1, 1])\n"
     ]
    }
   ],
   "source": [
    "loader = DataLoader(iterable_dataset, batch_size=4, num_workers=2, worker_init_fn=worker_init_fn)\n",
    "for d in loader:\n",
    "    batch, worker_ids, starts, ends = d\n",
    "    print(batch, worker_ids)"
   ]
  },
  {
   "cell_type": "code",
   "execution_count": null,
   "metadata": {},
   "outputs": [],
   "source": []
  }
 ],
 "metadata": {
  "kernelspec": {
   "display_name": "Python 3",
   "language": "python",
   "name": "python3"
  },
  "language_info": {
   "codemirror_mode": {
    "name": "ipython",
    "version": 3
   },
   "file_extension": ".py",
   "mimetype": "text/x-python",
   "name": "python",
   "nbconvert_exporter": "python",
   "pygments_lexer": "ipython3",
   "version": "3.7.4"
  }
 },
 "nbformat": 4,
 "nbformat_minor": 4
}
